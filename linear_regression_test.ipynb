{
 "cells": [
  {
   "cell_type": "code",
   "execution_count": 1,
   "id": "e5bc5bc8",
   "metadata": {},
   "outputs": [],
   "source": [
    "import tensorflow as tf\n",
    "import torch\n",
    "import numpy as np\n",
    "from numpy import abs\n",
    "import datetime\n",
    "from tensorflow import keras\n",
    "import matplotlib.pyplot as plt\n",
    "from tensorflow.keras.datasets import boston_housing\n",
    "import time"
   ]
  },
  {
   "cell_type": "code",
   "execution_count": 2,
   "id": "60693577",
   "metadata": {},
   "outputs": [
    {
     "name": "stderr",
     "output_type": "stream",
     "text": [
      "C:\\Users\\goldd\\AppData\\Local\\Temp\\ipykernel_17892\\180825044.py:15: UserWarning: To copy construct from a tensor, it is recommended to use sourceTensor.clone().detach() or sourceTensor.clone().detach().requires_grad_(True), rather than torch.tensor(sourceTensor).\n",
      "  xs = torch.tensor(torch.from_numpy(x_train).float(), requires_grad=True) #.unsqueeze_(.-\n"
     ]
    }
   ],
   "source": [
    "#Подгружаем данные\n",
    "(x_train, y_train), (x_test, y_test) = boston_housing.load_data()\n",
    "\n",
    "#Поскольку набор данных большой, нормализуем его весь, не попакетно\n",
    "mean_label = y_train.mean(axis=0)\n",
    "std_label = y_train.std(axis=0)\n",
    "mean_feat = x_train.mean(axis=0)\n",
    "std_feat = x_train.std(axis=0)\n",
    "x_train = (x_train-mean_feat)/std_feat\n",
    "y_train = (y_train-mean_label)/std_label\n",
    "x_test = (x_test-mean_feat)/std_feat\n",
    "\n",
    "#Преобразуем в формат Pytorch\n",
    "\n",
    "xs = torch.tensor(torch.from_numpy(x_train).float(), requires_grad=True) \n",
    "ys = torch. from_numpy(y_train).float().unsqueeze_(1)\n",
    "xs_test = torch.tensor(x_test).float()\n",
    "ys_test = torch.tensor(y_test).float()"
   ]
  },
  {
   "cell_type": "code",
   "execution_count": 4,
   "id": "8c0b224b",
   "metadata": {},
   "outputs": [],
   "source": [
    "#Раздельные метрики для Tensorflow + Keras и Pytorch\n",
    "def tensorflow_metric(pred, target):\n",
    "    return abs((pred.numpy()-target).mean())\n",
    "\n",
    "def keras_metric(pred, target):\n",
    "    return abs((pred-target) .mean())\n",
    "\n",
    "def pytorch_metric(pred, target):\n",
    "    return (pred - target).mean().abs()"
   ]
  },
  {
   "cell_type": "code",
   "execution_count": 22,
   "id": "e105c18c",
   "metadata": {},
   "outputs": [],
   "source": [
    "class SimpleLinearRegression:\n",
    "    def __init__(self, initializer = 'random'):\n",
    "        if initializer=='one':\n",
    "            self.var = 1.\n",
    "        elif initializer == 'zeros':\n",
    "            self.var = 0.\n",
    "        elif initializer=='random':\n",
    "            self.var = tf.random.uniform(shape=[], minval = 0.,maxval = 1.) \n",
    "\n",
    "        self.m = tf.Variable(1., shape = tf.TensorShape(None))\n",
    "        self.b = tf.Variable(self.var)\n",
    "\n",
    "    def predict(self, x):\n",
    "        return tf.reduce_sum(self.m * x, 1) + self.b\n",
    "\n",
    "    def mse(self, true, predicted):\n",
    "        return tf.reduce_mean(tf.square(true-predicted))\n",
    "\n",
    "    def update(self, X, y, learning_rate):\n",
    "        with tf.GradientTape(persistent=True) as g:\n",
    "            loss = self.mse(y, self.predict(X))\n",
    "        \n",
    "        dy_dm = g.gradient(loss, self.m)\n",
    "        dy_db = g.gradient(loss, self.b)\n",
    "\n",
    "        self.m.assign_sub(learning_rate * dy_dm)\n",
    "        self.b.assign_sub(learning_rate * dy_db)\n",
    "\n",
    "    def train(self, X, y, learning_rate = 0.1, epochs = 50):\n",
    "        if len(X.shape) == 1:\n",
    "            X = tf.reshape(X,[X.shape[0],1])\n",
    "\n",
    "        self.m.assign([self.var]*X.shape[-1])\n",
    "\n",
    "        for i in range(epochs):\n",
    "            self.update(X, y, learning_rate)"
   ]
  },
  {
   "cell_type": "code",
   "execution_count": 18,
   "id": "9f3a214b",
   "metadata": {},
   "outputs": [],
   "source": [
    "class LinearRegressionModel(torch.nn.Module) :\n",
    "\n",
    "    def __init__(self):\n",
    "        super(LinearRegressionModel, self).__init__()\n",
    "        self.linear = torch.nn.Linear(13, 1)\n",
    "\n",
    "    def forward(self, x):\n",
    "        y_pred = self.linear(x)\n",
    "        return y_pred\n",
    "\n",
    "    def train(self, loss, epochs=500):\n",
    "        for epoch in range(epochs):\n",
    "\n",
    "            pred_y = self.forward(xs)\n",
    "            lossval = loss(pred_y, ys)\n",
    "            #print(‘epoch {}, Loss {}'.format(epoch, Lossval))\n",
    "            lossval.backward()\n",
    "            #print(pred_y, Loss)\n",
    "            optimizer.step()\n",
    "            optimizer.zero_grad()\n",
    "\n",
    "def MSELoss(pred, target):\n",
    "    listoflosses = (pred - target) ** 2\n",
    "    return listoflosses.mean()"
   ]
  },
  {
   "cell_type": "code",
   "execution_count": 24,
   "id": "e27c6383",
   "metadata": {},
   "outputs": [],
   "source": [
    "#Tensorflow - регрессия\n",
    "\n",
    "linear_model = SimpleLinearRegression('zeros')\n",
    "n=1\n",
    "timediff = [0 for i in range(n)]\n",
    "for j in range(1):\n",
    "    start = time.process_time() # 3amepsem 6pema neped Hayanom Bcex anox\n",
    "    linear_model.train(x_train, y_train, learning_rate=0.1, epochs=500);\n",
    "    timediff[j] = time.process_time()-start\n",
    "\n",
    "summ_tf = 0\n",
    "\n",
    "for k in timediff:\n",
    "    summ_tf += k"
   ]
  },
  {
   "cell_type": "code",
   "execution_count": 25,
   "id": "d1e3d3b6",
   "metadata": {},
   "outputs": [],
   "source": [
    "#Keras регрессия\n",
    "model = tf.keras.Sequential([keras.layers.Dense(units=1, input_shape=[13])])\n",
    "model. compile(optimizer='sgd', loss='mean_squared_error')\n",
    "start = time.process_time()\n",
    "model.fit(x_train, y_train, epochs=500, verbose = 0)\n",
    "summ_ks = time.process_time()-start"
   ]
  },
  {
   "cell_type": "code",
   "execution_count": 27,
   "id": "987e276b",
   "metadata": {},
   "outputs": [],
   "source": [
    "#PyTorch регрессия\n",
    "mod = LinearRegressionModel()\n",
    "optimizer = torch.optim.SGD(mod.parameters(), lr=1e-2)\n",
    "start = time.process_time()\n",
    "mod. train(loss=MSELoss)\n",
    "summ_pt = time.process_time()-start"
   ]
  },
  {
   "cell_type": "code",
   "execution_count": 29,
   "id": "45ee4b3e",
   "metadata": {},
   "outputs": [
    {
     "name": "stdout",
     "output_type": "stream",
     "text": [
      "Общее время - Tensorflow, Keras, Pytorch 2.453125 11.78125 0.84375\n",
      "4/4 [==============================] - 0s 2ms/step\n",
      "Метрики: \n",
      " Tensorflow - функция потерь 22.99819206764154 \n",
      " Keras - функция потерь 22.99923983712078 \n",
      " Pytorch - функция потерь 22.997066497802734\n"
     ]
    }
   ],
   "source": [
    "print('Общее время - Tensorflow, Keras, Pytorch', summ_tf, summ_ks, summ_pt)\n",
    "print('Метрики:', '\\n', 'Tensorflow - функция потерь',\n",
    "    tensorflow_metric(linear_model.predict(x_test), y_test),\n",
    "    '\\n', 'Keras - функция потерь',\n",
    "    keras_metric(model.predict([x_test]), y_test), '\\n',\n",
    "    'Pytorch - функция потерь',\n",
    "    pytorch_metric(mod.forward(xs_test), ys_test).item())"
   ]
  }
 ],
 "metadata": {
  "kernelspec": {
   "display_name": "Python 3 (ipykernel)",
   "language": "python",
   "name": "python3"
  },
  "language_info": {
   "codemirror_mode": {
    "name": "ipython",
    "version": 3
   },
   "file_extension": ".py",
   "mimetype": "text/x-python",
   "name": "python",
   "nbconvert_exporter": "python",
   "pygments_lexer": "ipython3",
   "version": "3.9.12"
  }
 },
 "nbformat": 4,
 "nbformat_minor": 5
}
